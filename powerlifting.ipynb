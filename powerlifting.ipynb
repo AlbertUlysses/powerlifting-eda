{
 "cells": [
  {
   "cell_type": "code",
   "execution_count": 3,
   "metadata": {},
   "outputs": [],
   "source": [
    "import numpy as np\n",
    "import pandas as pd\n",
    "import os\n",
    "import matplotlib.pyplot as plt\n",
    "import seaborn as sns\n"
   ]
  },
  {
   "cell_type": "code",
   "execution_count": 4,
   "metadata": {},
   "outputs": [
    {
     "data": {
      "text/html": [
       "<div>\n",
       "<style scoped>\n",
       "    .dataframe tbody tr th:only-of-type {\n",
       "        vertical-align: middle;\n",
       "    }\n",
       "\n",
       "    .dataframe tbody tr th {\n",
       "        vertical-align: top;\n",
       "    }\n",
       "\n",
       "    .dataframe thead th {\n",
       "        text-align: right;\n",
       "    }\n",
       "</style>\n",
       "<table border=\"1\" class=\"dataframe\">\n",
       "  <thead>\n",
       "    <tr style=\"text-align: right;\">\n",
       "      <th></th>\n",
       "      <th>MeetID</th>\n",
       "      <th>Name</th>\n",
       "      <th>Sex</th>\n",
       "      <th>Equipment</th>\n",
       "      <th>BodyweightKg</th>\n",
       "      <th>WeightClassKg</th>\n",
       "      <th>BestSquatKg</th>\n",
       "      <th>BestBenchKg</th>\n",
       "      <th>BestDeadliftKg</th>\n",
       "      <th>TotalKg</th>\n",
       "      <th>Wilks</th>\n",
       "      <th>Federation</th>\n",
       "      <th>Squat Weight</th>\n",
       "      <th>Bench Weight</th>\n",
       "      <th>Deadlift Weight</th>\n",
       "      <th>Total Weight</th>\n",
       "      <th>WILKS Level</th>\n",
       "      <th>Cluster Name</th>\n",
       "    </tr>\n",
       "  </thead>\n",
       "  <tbody>\n",
       "    <tr>\n",
       "      <th>0</th>\n",
       "      <td>0</td>\n",
       "      <td>Angie Belk Terry</td>\n",
       "      <td>F</td>\n",
       "      <td>Wraps</td>\n",
       "      <td>59.60</td>\n",
       "      <td>60</td>\n",
       "      <td>47.63</td>\n",
       "      <td>20.41</td>\n",
       "      <td>70.31</td>\n",
       "      <td>138.35</td>\n",
       "      <td>155.05</td>\n",
       "      <td>Not IPF</td>\n",
       "      <td>Light Squat</td>\n",
       "      <td>Very Light Bench</td>\n",
       "      <td>Very Light DL</td>\n",
       "      <td>Very Light Total</td>\n",
       "      <td>Very Low WILKS</td>\n",
       "      <td>Heavy and Weak</td>\n",
       "    </tr>\n",
       "    <tr>\n",
       "      <th>1</th>\n",
       "      <td>0</td>\n",
       "      <td>Dawn Bogart</td>\n",
       "      <td>F</td>\n",
       "      <td>Single-ply</td>\n",
       "      <td>58.51</td>\n",
       "      <td>60</td>\n",
       "      <td>142.88</td>\n",
       "      <td>95.25</td>\n",
       "      <td>163.29</td>\n",
       "      <td>401.42</td>\n",
       "      <td>456.38</td>\n",
       "      <td>Not IPF</td>\n",
       "      <td>Moderate Squat</td>\n",
       "      <td>Moderate Bench</td>\n",
       "      <td>Moderate DL</td>\n",
       "      <td>Moderate Total</td>\n",
       "      <td>Very High WILKS</td>\n",
       "      <td>Average and Average</td>\n",
       "    </tr>\n",
       "    <tr>\n",
       "      <th>2</th>\n",
       "      <td>0</td>\n",
       "      <td>Dawn Bogart</td>\n",
       "      <td>F</td>\n",
       "      <td>Raw</td>\n",
       "      <td>58.51</td>\n",
       "      <td>60</td>\n",
       "      <td>0.00</td>\n",
       "      <td>95.25</td>\n",
       "      <td>0.00</td>\n",
       "      <td>95.25</td>\n",
       "      <td>108.29</td>\n",
       "      <td>Not IPF</td>\n",
       "      <td>Very Light Squat</td>\n",
       "      <td>Moderate Bench</td>\n",
       "      <td>Very Light DL</td>\n",
       "      <td>Very Light Total</td>\n",
       "      <td>Very Low WILKS</td>\n",
       "      <td>Heavy and Weak</td>\n",
       "    </tr>\n",
       "    <tr>\n",
       "      <th>3</th>\n",
       "      <td>0</td>\n",
       "      <td>Destiny Dula</td>\n",
       "      <td>F</td>\n",
       "      <td>Raw</td>\n",
       "      <td>63.68</td>\n",
       "      <td>67.5</td>\n",
       "      <td>0.00</td>\n",
       "      <td>31.75</td>\n",
       "      <td>90.72</td>\n",
       "      <td>122.47</td>\n",
       "      <td>130.47</td>\n",
       "      <td>Not IPF</td>\n",
       "      <td>Very Light Squat</td>\n",
       "      <td>Very Light Bench</td>\n",
       "      <td>Very Light DL</td>\n",
       "      <td>Very Light Total</td>\n",
       "      <td>Very Low WILKS</td>\n",
       "      <td>Heavy and Weak</td>\n",
       "    </tr>\n",
       "    <tr>\n",
       "      <th>4</th>\n",
       "      <td>0</td>\n",
       "      <td>Courtney Norris</td>\n",
       "      <td>F</td>\n",
       "      <td>Wraps</td>\n",
       "      <td>62.41</td>\n",
       "      <td>67.5</td>\n",
       "      <td>170.10</td>\n",
       "      <td>77.11</td>\n",
       "      <td>145.15</td>\n",
       "      <td>392.36</td>\n",
       "      <td>424.40</td>\n",
       "      <td>Not IPF</td>\n",
       "      <td>Moderate Squat</td>\n",
       "      <td>Light Bench</td>\n",
       "      <td>Light DL</td>\n",
       "      <td>Moderate Total</td>\n",
       "      <td>Very High WILKS</td>\n",
       "      <td>Average and Strong</td>\n",
       "    </tr>\n",
       "  </tbody>\n",
       "</table>\n",
       "</div>"
      ],
      "text/plain": [
       "   MeetID              Name Sex   Equipment  BodyweightKg WeightClassKg  \\\n",
       "0       0  Angie Belk Terry   F       Wraps         59.60            60   \n",
       "1       0       Dawn Bogart   F  Single-ply         58.51            60   \n",
       "2       0       Dawn Bogart   F         Raw         58.51            60   \n",
       "3       0      Destiny Dula   F         Raw         63.68          67.5   \n",
       "4       0   Courtney Norris   F       Wraps         62.41          67.5   \n",
       "\n",
       "   BestSquatKg  BestBenchKg  BestDeadliftKg  TotalKg   Wilks Federation  \\\n",
       "0        47.63        20.41           70.31   138.35  155.05    Not IPF   \n",
       "1       142.88        95.25          163.29   401.42  456.38    Not IPF   \n",
       "2         0.00        95.25            0.00    95.25  108.29    Not IPF   \n",
       "3         0.00        31.75           90.72   122.47  130.47    Not IPF   \n",
       "4       170.10        77.11          145.15   392.36  424.40    Not IPF   \n",
       "\n",
       "       Squat Weight      Bench Weight Deadlift Weight      Total Weight  \\\n",
       "0       Light Squat  Very Light Bench   Very Light DL  Very Light Total   \n",
       "1    Moderate Squat    Moderate Bench     Moderate DL    Moderate Total   \n",
       "2  Very Light Squat    Moderate Bench   Very Light DL  Very Light Total   \n",
       "3  Very Light Squat  Very Light Bench   Very Light DL  Very Light Total   \n",
       "4    Moderate Squat       Light Bench        Light DL    Moderate Total   \n",
       "\n",
       "       WILKS Level         Cluster Name  \n",
       "0   Very Low WILKS       Heavy and Weak  \n",
       "1  Very High WILKS  Average and Average  \n",
       "2   Very Low WILKS       Heavy and Weak  \n",
       "3   Very Low WILKS       Heavy and Weak  \n",
       "4  Very High WILKS   Average and Strong  "
      ]
     },
     "execution_count": 4,
     "metadata": {},
     "output_type": "execute_result"
    }
   ],
   "source": [
    "powerlift = pd.read_csv('powerlift.csv', index_col = 'Unnamed: 0')\n",
    "powerlift['WILKS Level'] = powerlift['WILKS Level'].replace('Very Hight WILKS', 'Very High WILKS').replace('Hight WILKS', 'High WILKS')\n",
    "powerlift.head()"
   ]
  },
  {
   "cell_type": "code",
   "execution_count": 5,
   "metadata": {},
   "outputs": [
    {
     "data": {
      "text/plain": [
       "[Text(0, 0, 'Very Low WILKS'),\n",
       " Text(0, 0, 'Low WILKS'),\n",
       " Text(0, 0, 'Moderate WILKS'),\n",
       " Text(0, 0, 'High WILKS'),\n",
       " Text(0, 0, 'Very High WILKS')]"
      ]
     },
     "execution_count": 5,
     "metadata": {},
     "output_type": "execute_result"
    },
    {
     "data": {
      "image/png": "[encoded data removed]",
      "text/plain": [
       "<Figure size 432x288 with 1 Axes>"
      ]
     },
     "metadata": {
      "needs_background": "light"
     },
     "output_type": "display_data"
    }
   ],
   "source": [
    "equip_raw = powerlift['Equipment'] == 'Raw'\n",
    "powerlift_raw = powerlift[equip_raw]\n",
    "\n",
    "raw_group = powerlift_raw['WILKS Level'].value_counts()\n",
    "raw_group = raw_group.reindex(['Very Low WILKS', 'Low WILKS', 'Moderate WILKS', 'High WILKS', 'Very High WILKS'])\n",
    "ax = sns.barplot(raw_group.index, raw_group.values)\n",
    "\n",
    "ax.set_xticklabels(ax.get_xticklabels(), rotation = 30)"
   ]
  },
  {
   "cell_type": "code",
   "execution_count": 6,
   "metadata": {},
   "outputs": [
    {
     "data": {
      "image/png": "[encoded data removed]",
      "text/plain": [
       "<Figure size 432x288 with 1 Axes>"
      ]
     },
     "metadata": {
      "needs_background": "light"
     },
     "output_type": "display_data"
    },
    {
     "data": {
      "image/png": "[encoded data removed]",
      "text/plain": [
       "<Figure size 432x288 with 1 Axes>"
      ]
     },
     "metadata": {
      "needs_background": "light"
     },
     "output_type": "display_data"
    }
   ],
   "source": [
    "# The function creates a simple bar chart based on filtering and aggregating our data. \n",
    "# We filter the data by defining a column name and choosing a value in that column. \n",
    "# We aggregate our data with choosing the column as group. \n",
    "# This is useful for exploring the data at a high level.\n",
    "# Looking at one categorical variable at a time.\n",
    "# The only downside to this is that we are not able to decide which order the columns are created.\n",
    "def barchart(column, value_type, group):\n",
    "    col_value = powerlift[column] == value_type\n",
    "    powerlift_value = powerlift[col_value]\n",
    "    count_group = powerlift_raw[group].value_counts()\n",
    "    ax = sns.barplot(count_group.index, count_group.values)\n",
    "    ax.set_xticklabels(ax.get_xticklabels(), rotation = 30)\n",
    "    ax.set(ylabel='Count')\n",
    "    ax.set_title(value_type)\n",
    "    plt.show()\n",
    "    \n",
    "barchart( 'Equipment', 'Raw', 'WILKS Level')\n",
    "barchart( 'Federation', 'Not IPF', 'Cluster Name')\n"
   ]
  },
  {
   "cell_type": "code",
   "execution_count": 13,
   "metadata": {},
   "outputs": [
    {
     "ename": "TypeError",
     "evalue": "pivot_count() missing 1 required positional argument: 'calc_field'",
     "output_type": "error",
     "traceback": [
      "\u001b[1;31m---------------------------------------------------------------------------\u001b[0m",
      "\u001b[1;31mTypeError\u001b[0m                                 Traceback (most recent call last)",
      "\u001b[1;32m<ipython-input-13-b2f4b2d52f15>\u001b[0m in \u001b[0;36m<module>\u001b[1;34m\u001b[0m\n\u001b[0;32m      7\u001b[0m     \u001b[1;32mreturn\u001b[0m \u001b[0mdf_pivot\u001b[0m\u001b[1;33m\u001b[0m\u001b[1;33m\u001b[0m\u001b[0m\n\u001b[0;32m      8\u001b[0m \u001b[1;33m\u001b[0m\u001b[0m\n\u001b[1;32m----> 9\u001b[1;33m \u001b[0mpivot_count\u001b[0m\u001b[1;33m(\u001b[0m\u001b[0mpowerlift\u001b[0m\u001b[1;33m,\u001b[0m \u001b[1;34m'Equipment'\u001b[0m\u001b[1;33m,\u001b[0m \u001b[1;34m'WILKS Level'\u001b[0m\u001b[1;33m)\u001b[0m\u001b[1;33m\u001b[0m\u001b[1;33m\u001b[0m\u001b[0m\n\u001b[0m",
      "\u001b[1;31mTypeError\u001b[0m: pivot_count() missing 1 required positional argument: 'calc_field'"
     ]
    }
   ],
   "source": [
    "def pivot_count(df, rows, columns, calc_field):\n",
    "    df_pivot = df.pivot_table(values=calc_field, \n",
    "                              index=rows, \n",
    "                              columns=columns, \n",
    "                              aggfunc=np.size\n",
    "                             ).dropna(axis=0, how='all')\n",
    "    return df_pivot\n",
    "\n",
    "pivot_count(powerlift, 'Equipment', 'WILKS Level', '')"
   ]
  },
  {
   "cell_type": "code",
   "execution_count": null,
   "metadata": {},
   "outputs": [],
   "source": []
  }
 ],
 "metadata": {
  "kernelspec": {
   "display_name": "Python 3",
   "language": "python",
   "name": "python3"
  },
  "language_info": {
   "codemirror_mode": {
    "name": "ipython",
    "version": 3
   },
   "file_extension": ".py",
   "mimetype": "text/x-python",
   "name": "python",
   "nbconvert_exporter": "python",
   "pygments_lexer": "ipython3",
   "version": "3.7.1"
  }
 },
 "nbformat": 4,
 "nbformat_minor": 2
}
